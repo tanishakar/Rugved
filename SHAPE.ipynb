{
 "cells": [
  {
   "cell_type": "code",
   "execution_count": null,
   "id": "a537c01b",
   "metadata": {},
   "outputs": [],
   "source": [
    "import cv2  \n",
    "import numpy as np  \n",
    "\n",
    "draw = False # true if the mouse is pressed. Press m to shift into curve mode.  \n",
    "mode = True # if True, draw rectangle.  \n",
    "a,b = -1,-1\n",
    "\n",
    "\n",
    "def onChange(value):\n",
    "    global mode\n",
    "    if(value==0):\n",
    "        mode=True\n",
    "    elif(value==1):\n",
    "        mode=False\n",
    "\n",
    "# mouse callback function  \n",
    "def draw_circle(event,x,y,flags,param):  \n",
    "    global a,b,draw,mode\n",
    "    if(event == cv2.EVENT_LBUTTONDOWN):\n",
    "        draw = True\n",
    "        a,b = x,y\n",
    "    elif (event == cv2.EVENT_MOUSEMOVE):\n",
    "        if draw == True:\n",
    "            if mode == True:\n",
    "                cv2.rectangle(img,(a,b),(x,y),(0,255,0),-1)\n",
    "            else:\n",
    "                cv2.circle(img,(x,y),3,(0,0,255),-1)\n",
    "    elif(event == cv2.EVENT_LBUTTONUP):\n",
    "        draw = False\n",
    "        if mode == True:\n",
    "            cv2.rectangle(img,(a,b),(x,y),(0,255,0),-1)\n",
    "        else:\n",
    "            cv2.circle(img,(x,y),5,(0,0,255),-1)\n",
    "\n",
    "cv2.namedWindow('track')\n",
    "cv2.createTrackbar('shape', 'track', 0, 1, onChange)\n",
    "# We bind the keyboard key m to toggle between rectangle and circle.  \n",
    "img = np.zeros((512,512,3), np.uint8)\n",
    "cv2.namedWindow('image')\n",
    "cv2.setMouseCallback('image',draw_circle)\n",
    "\n",
    "while(1):\n",
    "    cv2.imshow('image',img)\n",
    "    k = cv2.waitKey(1) & 0xFF\n",
    "    if k == ord('m'):\n",
    "        mode = not mode\n",
    "    elif(k == 27):\n",
    "        break\n",
    "cv2.destroyAllWindows()"
   ]
  },
  {
   "cell_type": "code",
   "execution_count": null,
   "id": "e8b977ef",
   "metadata": {},
   "outputs": [],
   "source": []
  }
 ],
 "metadata": {
  "kernelspec": {
   "display_name": "Python 3 (ipykernel)",
   "language": "python",
   "name": "python3"
  },
  "language_info": {
   "codemirror_mode": {
    "name": "ipython",
    "version": 3
   },
   "file_extension": ".py",
   "mimetype": "text/x-python",
   "name": "python",
   "nbconvert_exporter": "python",
   "pygments_lexer": "ipython3",
   "version": "3.8.10"
  }
 },
 "nbformat": 4,
 "nbformat_minor": 5
}
